{
 "cells": [
  {
   "cell_type": "code",
   "execution_count": null,
   "id": "8cc4d78b-a42e-488f-9743-92e4132371c8",
   "metadata": {},
   "outputs": [],
   "source": []
  }
 ],
 "metadata": {
  "kernelspec": {
   "display_name": "",
   "name": ""
  },
  "language_info": {
   "name": ""
  }
 },
 "nbformat": 4,
 "nbformat_minor": 5
}
